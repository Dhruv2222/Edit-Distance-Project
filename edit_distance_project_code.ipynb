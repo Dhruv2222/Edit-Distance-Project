{
  "nbformat": 4,
  "nbformat_minor": 0,
  "metadata": {
    "colab": {
      "provenance": []
    },
    "kernelspec": {
      "name": "python3",
      "display_name": "Python 3"
    },
    "language_info": {
      "name": "python"
    }
  },
  "cells": [
    {
      "cell_type": "markdown",
      "metadata": {
        "id": "_4WdxfeIWnt4"
      },
      "source": [
        "## **Implementing the Edit Distance for Word Autocompletion and Autocorrection**\n",
        "\n",
        "**Edit Distance:**\n",
        "\n",
        "The Edit distance is a text similarity measure that compares two words and returns a numeric value representing the distance between them. The distance reflects the total number of single-character edits required to transform one word into another. The more similar the two words are the less distance between them, and vice versa. One common use for this distance is in the autocompletion or autocorrection features of text processors or chat applications."
      ]
    },
    {
      "cell_type": "markdown",
      "metadata": {
        "id": "F-bwgBY5XaMb"
      },
      "source": [
        "**Dictionary Search for Word Autocompletion and Autocorrection**\n",
        "\n",
        "One application of the Edit distance is to help the writer write faster by automatically correcting typos or completing words. In this topic we are experimenting with a small version of the English dictionary (which contains 3,000 common words) to complete this task. The dictionary is available for download at [this link](https://www.ef.com/wwen/english-resources/english-vocabulary/top-3000-words/).\n",
        "\n",
        "**The sections covered are as follows:**\n",
        "\n",
        "1. Creating the distances matrix\n",
        "2. Initializing the distances matrix\n",
        "3. Calculating distances between all prefixes\n",
        "4. Printing the distances matrix.\n",
        "5. Dictionary search for autocompletion/autocorrection"
      ]
    },
    {
      "cell_type": "code",
      "metadata": {
        "id": "EiEOqcajaXFW"
      },
      "source": [
        "import numpy #importing the numpy module"
      ],
      "execution_count": null,
      "outputs": []
    },
    {
      "cell_type": "markdown",
      "metadata": {
        "id": "-rIs7UmuBRMs"
      },
      "source": [
        "**1. Creating the distances matrix**\n",
        "\n",
        "Using the dynamic programming approach for calculating the Levenshtein distance, a 2-D matrix is created that holds the distances between all prefixes of the two words being compared.\n",
        "\n",
        "We created a function named levenshteinDistanceDP() that accepts 2 arguments named token1 and token2, representing the two words. It returns an integer representing the distance between them.\n",
        "\n",
        "**2. Initializing the distances matrix**\n",
        "\n",
        "The next step is to initialize the first row and column of the matrix with integers starting from 0. We'll do that with the for loop shown below, which uses a variable named t1 (shortcut for token1) that starts from 0 and ends at the length of the second word. Note that the row index is fixed to 0 and the variable t1 is used to define the column index. By doing that, the first row is filled with values starting from 0.\n",
        "\n",
        "For initializing the first column of the distances matrix another for loop is used. The first is that the loop variable is named t2 rather than t1 to reflect that it starts from 0 until the end of the argument token2. The second change is that the column index of the distances array is now fixed to 0, while the loop variable t2 is used to define the index of the rows. This way the first column is initialized by values starting from 0.\n",
        "\n",
        "**3. Calculating Distances Between All Prefixes**\n",
        "To calculate the distances between all prefixes of the two words, two for loops are used to iterate through each cell in the matrix (excluding the first row/column). Inside the loops the distances are calculated for all combinations of prefixes from the two words. The distance between two prefixes is calculated based on a 2 x 2 matrix as shown in the next figure. Such a matrix always has three known values and just one missing value which is to be calculated.\n",
        "\n",
        "![fig1.jpg](data:image/jpeg;base64,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)\n",
        "\n",
        "If the two characters located at the end of the two prefixes being compared are equal, then the distance is equal to the value in the top-left corner of the 2 x 2 matrix. This is implemented in the next if statement.\n",
        "\n",
        "If the two characters are not equal, then the distance in the current cell is equal to the minimum of the three existing values in the 2 x 2 matrix after adding a cost of 1. An else block is added to the previous if statement to calculate such a distance according to the following code.\n",
        "\n",
        "The distance is located at the bottom-right corner of the distances matrix and is returned."
      ]
    },
    {
      "cell_type": "code",
      "metadata": {
        "id": "i1znOgAFBeHb"
      },
      "source": [
        "def levenshteinDistanceDP(token1, token2):\n",
        "    distances = numpy.zeros((len(token1) + 1, len(token2) + 1))   #Creating the distance matrix\n",
        "\n",
        "    for t1 in range(len(token1) + 1):   #initializing the first column\n",
        "        distances[t1][0] = t1\n",
        "\n",
        "    for t2 in range(len(token2) + 1):   #initializing the first row\n",
        "        distances[0][t2] = t2\n",
        "\n",
        "    a = 0\n",
        "    b = 0\n",
        "    c = 0\n",
        "\n",
        "    for t1 in range(1, len(token1) + 1):               #Calculating Distances Between All Prefixes\n",
        "        for t2 in range(1, len(token2) + 1):\n",
        "            if (token1[t1-1] == token2[t2-1]):\n",
        "                distances[t1][t2] = distances[t1 - 1][t2 - 1]\n",
        "            else:\n",
        "                a = distances[t1][t2 - 1]\n",
        "                b = distances[t1 - 1][t2]\n",
        "                c = distances[t1 - 1][t2 - 1]\n",
        "\n",
        "                if (a <= b and a <= c):\n",
        "                    distances[t1][t2] = a + 1\n",
        "                elif (b <= a and b <= c):\n",
        "                    distances[t1][t2] = b + 1\n",
        "                else:\n",
        "                    distances[t1][t2] = c + 1\n",
        "\n",
        "    # printDistances(distances, len(token1), len(token2))\n",
        "    return distances[len(token1)][len(token2)]\n",
        "\n",
        "def levenshteinDistanceMatrix(str1 , str2 ):\n",
        "    return levenshteinDistanceDP(str1, str2)\n"
      ],
      "execution_count": null,
      "outputs": []
    },
    {
      "cell_type": "markdown",
      "metadata": {
        "id": "eAF2LGMXEKm0"
      },
      "source": [
        "**4. Printing The Distance Matrix**\n",
        "\n",
        "After initializing both the first row and first column of the distances array, we'll use a function named printDistances() to print its contents using two for loops. It accepts three arguments:\n",
        "\n",
        "**1. distances:** The 2-D matrix holding the distances.\n",
        "\n",
        "**2. token1Length:** Length of the first word.\n",
        "\n",
        "**3. token2Length:** Length of the second word."
      ]
    },
    {
      "cell_type": "code",
      "metadata": {
        "id": "5H2NN3M4ahui"
      },
      "source": [
        "def printDistances(distances, token1Length, token2Length):\n",
        "    for t1 in range(token1Length + 1):\n",
        "        for t2 in range(token2Length + 1):\n",
        "            print(int(distances[t1][t2]), end=\" \")\n",
        "        print()"
      ],
      "execution_count": null,
      "outputs": []
    },
    {
      "cell_type": "markdown",
      "metadata": {
        "id": "-1UZ9U6ENKfa"
      },
      "source": [
        "Calling the levenshteinDistanceDP() function to print the final distance between the two words."
      ]
    },
    {
      "cell_type": "code",
      "metadata": {
        "colab": {
          "base_uri": "https://localhost:8080/"
        },
        "id": "84lPg5SGaRa3",
        "outputId": "681bb09e-59ca-4587-ff51-80b447df2b25"
      },
      "source": [
        "levenshteinDistanceDP(\"sitting\", \"kitten\")\n",
        "\n",
        "#levenshteinDistanceMatrix(\"disatnce\", \"distance\")\n"
      ],
      "execution_count": null,
      "outputs": [
        {
          "output_type": "execute_result",
          "data": {
            "text/plain": [
              "3.0"
            ]
          },
          "metadata": {
            "tags": []
          },
          "execution_count": 5
        }
      ]
    },
    {
      "cell_type": "markdown",
      "metadata": {
        "id": "zFhk2_N5NSAB"
      },
      "source": [
        "The distance between \"sitting\" and \"kitten\" is 3."
      ]
    },
    {
      "cell_type": "markdown",
      "metadata": {
        "id": "LwwESMaENwNO"
      },
      "source": [
        "\n",
        "**5. Dictionary search for autocompletion/autocorrection**\n",
        "\n",
        "The block of code below creates a function named calcDictDistance() which accepts two arguments, reads the dictionary, and calculates the distance between the search word and all words in the dictionary.\n",
        "\n",
        "The first argument is named word and represents the search word to be compared by the words in the dictionary. The second argument is named numWords which accepts the number of matched words to be filtered.\n",
        "\n",
        "The **calcDictDistance()** function reads the text file at the specified path using the open() function. The variable line iteratively holds each line (i.e. word) in the dictionary returned using the **readLines()** method. The calcDictDistance() function does not yet return anything, but we will soon change it to return a list holding the best-matched words.\n",
        "\n",
        "Then it compares the search word with each word in the dictionary, calculate a distance, and store all distances in a list named dictWordDist. Its length is 3,000 because the dictionary contains 3,000 words.\n",
        "\n",
        "The dictWordDist list is of type String and holds both the distance and the dictionary word separated by -. For example, if the distance between the search word and the word \"follow\" is two, then the entry saved in the dictWordDist list will be 2-follow. Later, the distance will be separated from the word using the split() method. This will return a list with two elements: the first is the distance, and the second is the word. The word is inserted into the closestWords list which is then returned by the calcDictDistance() function."
      ]
    },
    {
      "cell_type": "code",
      "metadata": {
        "id": "cjML9OcFJEhE"
      },
      "source": [
        "def calcDictDistance(word, numWords):\n",
        "    file = open('3000 words.txt', 'r')\n",
        "    lines = file.readlines()\n",
        "    file.close()\n",
        "    dictWordDist = []\n",
        "    wordIdx = 0\n",
        "\n",
        "    for line in lines:        #variable line iteratively holds each line (i.e. word) in the dictionary returned using the readLines() method\n",
        "        wordDistance = levenshteinDistanceMatrix(word, line.strip())\n",
        "        if wordDistance >= 10:\n",
        "            wordDistance = 9\n",
        "        dictWordDist.append(str(int(wordDistance)) + \"-\" + line.strip())\n",
        "        wordIdx = wordIdx + 1\n",
        "\n",
        "    closestWords = []\n",
        "    wordDetails = []\n",
        "    currWordDist = 0\n",
        "    dictWordDist.sort()    #The dictWordDist list is sorted to leave the best-matched words at the top of the list\n",
        "    # print(dictWordDist)\n",
        "    for i in range(numWords):\n",
        "        currWordDist = dictWordDist[i]\n",
        "        wordDetails = currWordDist.split(\"-\") #returns a list with two elements: the first is the distance, and the second is the word\n",
        "        closestWords.append(wordDetails[1]) #word is inserted into the closestWords list which is then returned by the calcDictDistance() function\n",
        "    return closestWords"
      ],
      "execution_count": null,
      "outputs": []
    },
    {
      "cell_type": "markdown",
      "metadata": {
        "id": "LLGoS_V6O24P"
      },
      "source": [
        "Calling the calcDictDistance() function and passing arguments. The search word is pape and the number of matches is 5."
      ]
    },
    {
      "cell_type": "code",
      "metadata": {
        "id": "D4bdqs2qZcEz",
        "colab": {
          "base_uri": "https://localhost:8080/"
        },
        "outputId": "6e5c7900-c2eb-42ae-82e9-bb1cc3cf60d1"
      },
      "source": [
        "result = calcDictDistance(\"pape\", 5)\n",
        "for word in result:\n",
        "  print(word)"
      ],
      "execution_count": null,
      "outputs": [
        {
          "output_type": "stream",
          "text": [
            "pace\n",
            "page\n",
            "pale\n",
            "paper\n",
            "pipe\n"
          ],
          "name": "stdout"
        }
      ]
    },
    {
      "cell_type": "markdown",
      "metadata": {
        "id": "F2_LOW6LPDbV"
      },
      "source": [
        "The output of the above code is given below. The Edit distance successfully helped in making good suggestions, especially for the first two words. By doing that, the user does not have to enter the complete word and by just entering some characters that discriminate the word, the program is able to make suggestions that help in either autocompletion or autocorrection."
      ]
    },
    {
      "cell_type": "markdown",
      "metadata": {
        "id": "iO5QYjtfQhNe"
      },
      "source": [
        "**Conclusion:**\n",
        "\n",
        "Using this similarity measure we were able to build a useful application of the Edit distance in which the user supplies a word and the program returns the best-matched words based on a dictionary search. This helps in autocompleting or autocorrecting text while a user is typing."
      ]
    }
  ]
}